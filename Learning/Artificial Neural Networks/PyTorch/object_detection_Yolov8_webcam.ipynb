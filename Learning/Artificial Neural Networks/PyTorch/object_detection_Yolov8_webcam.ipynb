{
  "nbformat": 4,
  "nbformat_minor": 0,
  "metadata": {
    "colab": {
      "provenance": []
    },
    "kernelspec": {
      "name": "python3",
      "display_name": "Python 3"
    },
    "language_info": {
      "name": "python"
    },
    "accelerator": "GPU",
    "gpuClass": "standard"
  },
  "cells": [
    {
      "cell_type": "code",
      "execution_count": null,
      "metadata": {
        "id": "ItBnwiZToj3F"
      },
      "outputs": [],
      "source": [
        "pip install ultralytics\n",
        "\n",
        "pip install supervision"
      ]
    },
    {
      "cell_type": "code",
      "source": [
        "from ultralytics import YOLO\n",
        "import cv2\n",
        "import argparse\n",
        "import supervision as sv\n",
        "import numpy as np"
      ],
      "metadata": {
        "id": "C-MuiOHiopCO"
      },
      "execution_count": null,
      "outputs": []
    },
    {
      "cell_type": "code",
      "source": [
        "ZONE_POLYGON = np.array([\n",
        "    [0, 0],\n",
        "    [0.5, 0],\n",
        "    [0, 1],\n",
        "    [0.5, 1]\n",
        "])"
      ],
      "metadata": {
        "id": "aUmjaMuzwcSD"
      },
      "execution_count": null,
      "outputs": []
    },
    {
      "cell_type": "code",
      "source": [
        "def parse_arguments() -> argparse.Namespace:\n",
        "  parser = argparse.ArgumentParser(description = 'yolov8')\n",
        "  parser.add_argument(\n",
        "      '--webcam-resolution--',\n",
        "      default = [1280, 720],\n",
        "      nargs = 2,\n",
        "      type = int\n",
        "  )\n",
        "  args = parser.parse_args()\n",
        "  return args"
      ],
      "metadata": {
        "id": "ElJrDraarml8"
      },
      "execution_count": null,
      "outputs": []
    },
    {
      "cell_type": "code",
      "source": [
        "cap = cv2.videoCapture(0)\n",
        "args = parse_arguments()\n",
        "width, height = args.webcam_resolution\n",
        "cap.set(cv2.CAP_PROP_FRAME_WIDTH, width)\n",
        "cap.set(cv2.CAP_PROP_FRAME_HEIGHT, height)\n",
        "\n",
        "model = YOLO('yolov8l.pt')\n",
        "\n",
        "box_annotator = sv.BoxAnnotator(\n",
        "    thickness = 2,\n",
        "    text_thickness = 2,\n",
        "    text_scale = 1\n",
        ")\n",
        "\n",
        "zone_polygon = (ZONE_POLYGON * np.array(args.webcam_resolution)).astype(int)\n",
        "zone = sv.PolygonZone(polygon = zone_polygon, frame_resolution_wh = tuple(args.webcam_resolution))\n",
        "zone_annotator = sv.PolygonZoneAnnotator(\n",
        "    zone = zone, \n",
        "    color = sv.Color.red(),\n",
        "    thickness = 2,\n",
        "    text_thickness = 4,\n",
        "    text_scale = 2\n",
        ")\n",
        "\n",
        "while(True):\n",
        "  ret, frame = cap.read()\n",
        "  \n",
        "  result = model(frame, agnostic_nms = True)[0]\n",
        "  detections = sv.Detections.from_yolov8(result)\n",
        "  detections = detections[detections.class_id == 47]\n",
        "  labels = [\n",
        "      f'{model.model.names[class_id]} {confidence:0.2f}'\n",
        "      for _, confidence, class_id in detections\n",
        "  ]\n",
        "  frame = box_annotator.annotate(scene = frame, detections = detections, labels = labels)\n",
        "  zone.trigger(detections = detections)\n",
        "  frame = zone.annotate(scene = frame)\n",
        "  cv2.imshow('yolov8', frame)\n",
        "  if (cv2.waitKey(30) == 27):\n",
        "    break\n",
        "  "
      ],
      "metadata": {
        "id": "8wrb3PDZos_L"
      },
      "execution_count": null,
      "outputs": []
    }
  ]
}