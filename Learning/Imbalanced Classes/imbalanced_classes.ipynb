{
 "cells": [
  {
   "cell_type": "code",
   "execution_count": 3,
   "id": "184b49a7",
   "metadata": {},
   "outputs": [],
   "source": [
    "import pandas as pd\n",
    "import numpy as np\n",
    "from imblearn.over_sampling import SMOTENC\n",
    "#from imblearn.over_sampling import SMOTE"
   ]
  },
  {
   "cell_type": "code",
   "execution_count": null,
   "id": "91494107",
   "metadata": {},
   "outputs": [],
   "source": [
    "data = pd.read_csv('credit3.csv', sep=';')"
   ]
  },
  {
   "cell_type": "code",
   "execution_count": null,
   "id": "4c7f3a55",
   "metadata": {},
   "outputs": [],
   "source": [
    "X = data.iloc[:, 1:10].values\n",
    "Y = data.iloc[:, 10].values"
   ]
  },
  {
   "cell_type": "code",
   "execution_count": null,
   "id": "3c8de0ad",
   "metadata": {},
   "outputs": [],
   "source": [
    "np.bincount(y)"
   ]
  },
  {
   "cell_type": "code",
   "execution_count": null,
   "id": "fc0467f2",
   "metadata": {},
   "outputs": [],
   "source": [
    "sm = SMOTENC(random_state = 42, categorical_features = [0, 1])\n",
    "X_res, Y_res = sm.fit_resample(X, y)"
   ]
  },
  {
   "cell_type": "code",
   "execution_count": null,
   "id": "a6a8ca50",
   "metadata": {},
   "outputs": [],
   "source": [
    "np.bincount(Y_res)"
   ]
  }
 ],
 "metadata": {
  "kernelspec": {
   "display_name": "Python 3 (ipykernel)",
   "language": "python",
   "name": "python3"
  },
  "language_info": {
   "codemirror_mode": {
    "name": "ipython",
    "version": 3
   },
   "file_extension": ".py",
   "mimetype": "text/x-python",
   "name": "python",
   "nbconvert_exporter": "python",
   "pygments_lexer": "ipython3",
   "version": "3.9.13"
  }
 },
 "nbformat": 4,
 "nbformat_minor": 5
}
