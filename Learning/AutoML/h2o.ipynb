{
 "cells": [
  {
   "cell_type": "code",
   "execution_count": 1,
   "id": "51b5ccd9",
   "metadata": {},
   "outputs": [
    {
     "ename": "ModuleNotFoundError",
     "evalue": "No module named 'h2o'",
     "output_type": "error",
     "traceback": [
      "\u001b[1;31m---------------------------------------------------------------------------\u001b[0m",
      "\u001b[1;31mModuleNotFoundError\u001b[0m                       Traceback (most recent call last)",
      "\u001b[1;32m~\\AppData\\Local\\Temp\\ipykernel_7976\\2071243238.py\u001b[0m in \u001b[0;36m<module>\u001b[1;34m\u001b[0m\n\u001b[1;32m----> 1\u001b[1;33m \u001b[1;32mimport\u001b[0m \u001b[0mh2o\u001b[0m\u001b[1;33m\u001b[0m\u001b[1;33m\u001b[0m\u001b[0m\n\u001b[0m\u001b[0;32m      2\u001b[0m \u001b[1;32mfrom\u001b[0m \u001b[0mh2o\u001b[0m\u001b[1;33m.\u001b[0m\u001b[0mautoml\u001b[0m \u001b[1;32mimport\u001b[0m \u001b[0mH2OAutoML\u001b[0m\u001b[1;33m\u001b[0m\u001b[1;33m\u001b[0m\u001b[0m\n\u001b[0;32m      3\u001b[0m \u001b[1;32mfrom\u001b[0m \u001b[0mh2o\u001b[0m\u001b[1;33m.\u001b[0m\u001b[0mestimators\u001b[0m \u001b[1;32mimport\u001b[0m \u001b[0mH2ORandomForestEstimator\u001b[0m\u001b[1;33m\u001b[0m\u001b[1;33m\u001b[0m\u001b[0m\n\u001b[0;32m      4\u001b[0m \u001b[1;32mimport\u001b[0m \u001b[0mpandas\u001b[0m \u001b[1;32mas\u001b[0m \u001b[0mpd\u001b[0m\u001b[1;33m\u001b[0m\u001b[1;33m\u001b[0m\u001b[0m\n",
      "\u001b[1;31mModuleNotFoundError\u001b[0m: No module named 'h2o'"
     ]
    }
   ],
   "source": [
    "import h2o\n",
    "from h2o.automl import H2OAutoML\n",
    "from h2o.estimators import H2ORandomForestEstimator\n",
    "import pandas as pd"
   ]
  },
  {
   "cell_type": "code",
   "execution_count": null,
   "id": "23a5ca92",
   "metadata": {},
   "outputs": [],
   "source": [
    "h2o.init()"
   ]
  },
  {
   "cell_type": "code",
   "execution_count": null,
   "id": "a2de243d",
   "metadata": {},
   "outputs": [],
   "source": [
    "data = pd.read_csv('churn_treino.csv', sep = ';')\n",
    "data.head()"
   ]
  },
  {
   "cell_type": "code",
   "execution_count": null,
   "id": "566cad92",
   "metadata": {},
   "outputs": [],
   "source": [
    "imp = h2o.DataFrame(data)\n",
    "train, test = imp.split_frame(ratios=[.7])"
   ]
  },
  {
   "cell_type": "code",
   "execution_count": null,
   "id": "b509e60b",
   "metadata": {},
   "outputs": [],
   "source": [
    "train['Exited'] = train['Exited'].asfactor()\n",
    "test['Exited'] = test['Exited'].asfactor()"
   ]
  },
  {
   "cell_type": "code",
   "execution_count": null,
   "id": "f08d96c6",
   "metadata": {},
   "outputs": [],
   "source": [
    "model_automl = H2OAutoML(max_runtime_secs = 180, sort_metric = 'AUC')\n",
    "model_automl.train(y='Exited', training_frame = train)"
   ]
  },
  {
   "cell_type": "code",
   "execution_count": null,
   "id": "309d3790",
   "metadata": {},
   "outputs": [],
   "source": [
    "model_forest = H2ORandomForestEstimator(n_folds = 5)\n",
    "model_forest.train(y='Exited', training_frame = train)"
   ]
  },
  {
   "cell_type": "code",
   "execution_count": null,
   "id": "45abd2ca",
   "metadata": {},
   "outputs": [],
   "source": [
    "ranking = model_automl.leaderbord\n",
    "ranking = ranking.as_data_frame()\n",
    "ranking"
   ]
  },
  {
   "cell_type": "code",
   "execution_count": null,
   "id": "389c3217",
   "metadata": {},
   "outputs": [],
   "source": [
    "performance = model_forest.model_performance(test_data = test)\n",
    "performance"
   ]
  },
  {
   "cell_type": "code",
   "execution_count": null,
   "id": "c5b4cf82",
   "metadata": {},
   "outputs": [],
   "source": [
    "test = pd.read_csv('churnprever.csv', sep = ';')\n",
    "test = h2o.H2OFrame(test)\n",
    "predict = model_automl.leader.predict(test)\n",
    "predict"
   ]
  }
 ],
 "metadata": {
  "kernelspec": {
   "display_name": "Python 3 (ipykernel)",
   "language": "python",
   "name": "python3"
  },
  "language_info": {
   "codemirror_mode": {
    "name": "ipython",
    "version": 3
   },
   "file_extension": ".py",
   "mimetype": "text/x-python",
   "name": "python",
   "nbconvert_exporter": "python",
   "pygments_lexer": "ipython3",
   "version": "3.9.13"
  }
 },
 "nbformat": 4,
 "nbformat_minor": 5
}
